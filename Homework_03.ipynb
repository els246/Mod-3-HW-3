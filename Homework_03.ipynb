{
 "cells": [
  {
   "cell_type": "markdown",
   "id": "c5e41ff9-6e8a-48a8-a74c-1ca73ba97002",
   "metadata": {},
   "source": [
    "## Homework Three: Extending the Linear Regression Framework\n",
    "\n",
    "In this homework, we will extend our understanding of linear regression by considering how using a **held-out test set** can help determine how well the model \n",
    "generalizes to unseen data. Next week, we will refine this approach further by distinguishing between validation and testing sets.\n",
    "\n",
    "Secondly, we will extend the linear regression framework by generalizing the basic idea of polynomial regression: we will perform **feature engineering** by\n",
    "adding new features computed from the originals using log scaling and other non-linear functions. \n",
    "\n",
    "**Notes:**\n",
    "\n",
    "- **You will NO LONGER need to submit a `requirements.txt` file!**\n",
    "\n",
    "- **Grading:** There are nine (9) graded questions, each worth 6 points. You will be given 2 bonus points for free to bring this up to a total of 50 points for the whole assignment. "
   ]
  },
  {
   "cell_type": "code",
   "execution_count": 4,
   "id": "7ed7793a",
   "metadata": {},
   "outputs": [
    {
     "name": "stdout",
     "output_type": "stream",
     "text": [
      "Collecting kagglehub\n",
      "  Downloading kagglehub-0.3.7-py3-none-any.whl.metadata (30 kB)\n",
      "Collecting model-signing (from kagglehub)\n",
      "  Downloading model_signing-0.2.0-py3-none-any.whl.metadata (26 kB)\n",
      "Requirement already satisfied: packaging in /home/codespace/.local/lib/python3.12/site-packages (from kagglehub) (24.2)\n",
      "Requirement already satisfied: requests in /home/codespace/.local/lib/python3.12/site-packages (from kagglehub) (2.32.3)\n",
      "Collecting tqdm (from kagglehub)\n",
      "  Downloading tqdm-4.67.1-py3-none-any.whl.metadata (57 kB)\n",
      "Collecting cryptography (from model-signing->kagglehub)\n",
      "  Using cached cryptography-44.0.0-cp39-abi3-manylinux_2_28_x86_64.whl.metadata (5.7 kB)\n",
      "Collecting in-toto-attestation (from model-signing->kagglehub)\n",
      "  Downloading in_toto_attestation-0.9.3-py3-none-any.whl.metadata (2.6 kB)\n",
      "Collecting sigstore (from model-signing->kagglehub)\n",
      "  Downloading sigstore-3.6.1-py3-none-any.whl.metadata (15 kB)\n",
      "Requirement already satisfied: typing-extensions in /home/codespace/.local/lib/python3.12/site-packages (from model-signing->kagglehub) (4.12.2)\n",
      "Requirement already satisfied: charset-normalizer<4,>=2 in /home/codespace/.local/lib/python3.12/site-packages (from requests->kagglehub) (3.4.0)\n",
      "Requirement already satisfied: idna<4,>=2.5 in /home/codespace/.local/lib/python3.12/site-packages (from requests->kagglehub) (3.10)\n",
      "Requirement already satisfied: urllib3<3,>=1.21.1 in /home/codespace/.local/lib/python3.12/site-packages (from requests->kagglehub) (2.2.3)\n",
      "Requirement already satisfied: certifi>=2017.4.17 in /home/codespace/.local/lib/python3.12/site-packages (from requests->kagglehub) (2024.8.30)\n",
      "Requirement already satisfied: cffi>=1.12 in /home/codespace/.local/lib/python3.12/site-packages (from cryptography->model-signing->kagglehub) (1.17.1)\n",
      "Collecting protobuf (from in-toto-attestation->model-signing->kagglehub)\n",
      "  Downloading protobuf-5.29.3-cp38-abi3-manylinux2014_x86_64.whl.metadata (592 bytes)\n",
      "Collecting id>=1.1.0 (from sigstore->model-signing->kagglehub)\n",
      "  Downloading id-1.5.0-py3-none-any.whl.metadata (5.2 kB)\n",
      "Collecting pyasn1~=0.6 (from sigstore->model-signing->kagglehub)\n",
      "  Downloading pyasn1-0.6.1-py3-none-any.whl.metadata (8.4 kB)\n",
      "Collecting pydantic<3,>=2 (from sigstore->model-signing->kagglehub)\n",
      "  Downloading pydantic-2.10.6-py3-none-any.whl.metadata (30 kB)\n",
      "Collecting pyjwt>=2.1 (from sigstore->model-signing->kagglehub)\n",
      "  Downloading PyJWT-2.10.1-py3-none-any.whl.metadata (4.0 kB)\n",
      "Collecting pyOpenSSL>=23.0.0 (from sigstore->model-signing->kagglehub)\n",
      "  Downloading pyOpenSSL-25.0.0-py3-none-any.whl.metadata (16 kB)\n",
      "Collecting rich~=13.0 (from sigstore->model-signing->kagglehub)\n",
      "  Downloading rich-13.9.4-py3-none-any.whl.metadata (18 kB)\n",
      "Collecting rfc8785~=0.1.2 (from sigstore->model-signing->kagglehub)\n",
      "  Downloading rfc8785-0.1.4-py3-none-any.whl.metadata (3.4 kB)\n",
      "Collecting rfc3161-client~=0.1.2 (from sigstore->model-signing->kagglehub)\n",
      "  Downloading rfc3161_client-0.1.2-cp39-abi3-manylinux_2_17_x86_64.manylinux2014_x86_64.whl.metadata (3.0 kB)\n",
      "Collecting sigstore-protobuf-specs==0.3.2 (from sigstore->model-signing->kagglehub)\n",
      "  Downloading sigstore_protobuf_specs-0.3.2-py3-none-any.whl.metadata (1.4 kB)\n",
      "Collecting sigstore-rekor-types==0.0.18 (from sigstore->model-signing->kagglehub)\n",
      "  Downloading sigstore_rekor_types-0.0.18-py3-none-any.whl.metadata (13 kB)\n",
      "Collecting tuf~=5.0 (from sigstore->model-signing->kagglehub)\n",
      "  Downloading tuf-5.1.0-py3-none-any.whl.metadata (7.9 kB)\n",
      "Requirement already satisfied: platformdirs~=4.2 in /home/codespace/.local/lib/python3.12/site-packages (from sigstore->model-signing->kagglehub) (4.3.6)\n",
      "Collecting betterproto==2.0.0b6 (from sigstore-protobuf-specs==0.3.2->sigstore->model-signing->kagglehub)\n",
      "  Downloading betterproto-2.0.0b6-py3-none-any.whl.metadata (17 kB)\n",
      "Collecting grpclib<0.5.0,>=0.4.1 (from betterproto==2.0.0b6->sigstore-protobuf-specs==0.3.2->sigstore->model-signing->kagglehub)\n",
      "  Downloading grpclib-0.4.7.tar.gz (61 kB)\n",
      "  Installing build dependencies ... \u001b[?25ldone\n",
      "\u001b[?25h  Getting requirements to build wheel ... \u001b[?25ldone\n",
      "\u001b[?25h  Preparing metadata (pyproject.toml) ... \u001b[?25ldone\n",
      "\u001b[?25hRequirement already satisfied: python-dateutil<3.0,>=2.8 in /home/codespace/.local/lib/python3.12/site-packages (from betterproto==2.0.0b6->sigstore-protobuf-specs==0.3.2->sigstore->model-signing->kagglehub) (2.9.0.post0)\n",
      "Requirement already satisfied: pycparser in /home/codespace/.local/lib/python3.12/site-packages (from cffi>=1.12->cryptography->model-signing->kagglehub) (2.22)\n",
      "Collecting annotated-types>=0.6.0 (from pydantic<3,>=2->sigstore->model-signing->kagglehub)\n",
      "  Downloading annotated_types-0.7.0-py3-none-any.whl.metadata (15 kB)\n",
      "Collecting pydantic-core==2.27.2 (from pydantic<3,>=2->sigstore->model-signing->kagglehub)\n",
      "  Downloading pydantic_core-2.27.2-cp312-cp312-manylinux_2_17_x86_64.manylinux2014_x86_64.whl.metadata (6.6 kB)\n",
      "Collecting markdown-it-py>=2.2.0 (from rich~=13.0->sigstore->model-signing->kagglehub)\n",
      "  Downloading markdown_it_py-3.0.0-py3-none-any.whl.metadata (6.9 kB)\n",
      "Requirement already satisfied: pygments<3.0.0,>=2.13.0 in /home/codespace/.local/lib/python3.12/site-packages (from rich~=13.0->sigstore->model-signing->kagglehub) (2.18.0)\n",
      "Collecting securesystemslib~=1.0 (from tuf~=5.0->sigstore->model-signing->kagglehub)\n",
      "  Downloading securesystemslib-1.2.0-py3-none-any.whl.metadata (4.8 kB)\n",
      "Collecting mdurl~=0.1 (from markdown-it-py>=2.2.0->rich~=13.0->sigstore->model-signing->kagglehub)\n",
      "  Downloading mdurl-0.1.2-py3-none-any.whl.metadata (1.6 kB)\n",
      "Collecting email-validator>=2.0.0 (from pydantic[email]<3,>=2->sigstore-rekor-types==0.0.18->sigstore->model-signing->kagglehub)\n",
      "  Downloading email_validator-2.2.0-py3-none-any.whl.metadata (25 kB)\n",
      "Collecting dnspython>=2.0.0 (from email-validator>=2.0.0->pydantic[email]<3,>=2->sigstore-rekor-types==0.0.18->sigstore->model-signing->kagglehub)\n",
      "  Downloading dnspython-2.7.0-py3-none-any.whl.metadata (5.8 kB)\n",
      "Collecting h2<5,>=3.1.0 (from grpclib<0.5.0,>=0.4.1->betterproto==2.0.0b6->sigstore-protobuf-specs==0.3.2->sigstore->model-signing->kagglehub)\n",
      "  Downloading h2-4.2.0-py3-none-any.whl.metadata (5.1 kB)\n",
      "Collecting multidict (from grpclib<0.5.0,>=0.4.1->betterproto==2.0.0b6->sigstore-protobuf-specs==0.3.2->sigstore->model-signing->kagglehub)\n",
      "  Downloading multidict-6.1.0-cp312-cp312-manylinux_2_17_x86_64.manylinux2014_x86_64.whl.metadata (5.0 kB)\n",
      "Requirement already satisfied: six>=1.5 in /home/codespace/.local/lib/python3.12/site-packages (from python-dateutil<3.0,>=2.8->betterproto==2.0.0b6->sigstore-protobuf-specs==0.3.2->sigstore->model-signing->kagglehub) (1.17.0)\n",
      "Collecting hyperframe<7,>=6.1 (from h2<5,>=3.1.0->grpclib<0.5.0,>=0.4.1->betterproto==2.0.0b6->sigstore-protobuf-specs==0.3.2->sigstore->model-signing->kagglehub)\n",
      "  Downloading hyperframe-6.1.0-py3-none-any.whl.metadata (4.3 kB)\n",
      "Collecting hpack<5,>=4.1 (from h2<5,>=3.1.0->grpclib<0.5.0,>=0.4.1->betterproto==2.0.0b6->sigstore-protobuf-specs==0.3.2->sigstore->model-signing->kagglehub)\n",
      "  Downloading hpack-4.1.0-py3-none-any.whl.metadata (4.6 kB)\n",
      "Downloading kagglehub-0.3.7-py3-none-any.whl (54 kB)\n",
      "Downloading model_signing-0.2.0-py3-none-any.whl (63 kB)\n",
      "Downloading tqdm-4.67.1-py3-none-any.whl (78 kB)\n",
      "Using cached cryptography-44.0.0-cp39-abi3-manylinux_2_28_x86_64.whl (4.2 MB)\n",
      "Downloading in_toto_attestation-0.9.3-py3-none-any.whl (13 kB)\n",
      "Downloading sigstore-3.6.1-py3-none-any.whl (99 kB)\n",
      "Downloading sigstore_protobuf_specs-0.3.2-py3-none-any.whl (24 kB)\n",
      "Downloading sigstore_rekor_types-0.0.18-py3-none-any.whl (20 kB)\n",
      "Downloading betterproto-2.0.0b6-py3-none-any.whl (64 kB)\n",
      "Downloading id-1.5.0-py3-none-any.whl (13 kB)\n",
      "Downloading pyasn1-0.6.1-py3-none-any.whl (83 kB)\n",
      "Downloading pydantic-2.10.6-py3-none-any.whl (431 kB)\n",
      "Downloading pydantic_core-2.27.2-cp312-cp312-manylinux_2_17_x86_64.manylinux2014_x86_64.whl (2.0 MB)\n",
      "\u001b[2K   \u001b[90m━━━━━━━━━━━━━━━━━━━━━━━━━━━━━━━━━━━━━━━━\u001b[0m \u001b[32m2.0/2.0 MB\u001b[0m \u001b[31m7.9 MB/s\u001b[0m eta \u001b[36m0:00:00\u001b[0ma \u001b[36m0:00:01\u001b[0m\n",
      "\u001b[?25hDownloading PyJWT-2.10.1-py3-none-any.whl (22 kB)\n",
      "Downloading pyOpenSSL-25.0.0-py3-none-any.whl (56 kB)\n",
      "Downloading rfc3161_client-0.1.2-cp39-abi3-manylinux_2_17_x86_64.manylinux2014_x86_64.whl (2.1 MB)\n",
      "\u001b[2K   \u001b[90m━━━━━━━━━━━━━━━━━━━━━━━━━━━━━━━━━━━━━━━━\u001b[0m \u001b[32m2.1/2.1 MB\u001b[0m \u001b[31m5.7 MB/s\u001b[0m eta \u001b[36m0:00:00\u001b[0ma \u001b[36m0:00:01\u001b[0m\n",
      "\u001b[?25hDownloading rfc8785-0.1.4-py3-none-any.whl (9.2 kB)\n",
      "Downloading rich-13.9.4-py3-none-any.whl (242 kB)\n",
      "Downloading tuf-5.1.0-py3-none-any.whl (50 kB)\n",
      "Downloading protobuf-5.29.3-cp38-abi3-manylinux2014_x86_64.whl (319 kB)\n",
      "Downloading annotated_types-0.7.0-py3-none-any.whl (13 kB)\n",
      "Downloading markdown_it_py-3.0.0-py3-none-any.whl (87 kB)\n",
      "Downloading securesystemslib-1.2.0-py3-none-any.whl (870 kB)\n",
      "\u001b[2K   \u001b[90m━━━━━━━━━━━━━━━━━━━━━━━━━━━━━━━━━━━━━━━━\u001b[0m \u001b[32m870.8/870.8 kB\u001b[0m \u001b[31m10.3 MB/s\u001b[0m eta \u001b[36m0:00:00\u001b[0m\n",
      "\u001b[?25hDownloading email_validator-2.2.0-py3-none-any.whl (33 kB)\n",
      "Downloading mdurl-0.1.2-py3-none-any.whl (10.0 kB)\n",
      "Downloading dnspython-2.7.0-py3-none-any.whl (313 kB)\n",
      "Downloading h2-4.2.0-py3-none-any.whl (60 kB)\n",
      "Downloading multidict-6.1.0-cp312-cp312-manylinux_2_17_x86_64.manylinux2014_x86_64.whl (131 kB)\n",
      "Downloading hpack-4.1.0-py3-none-any.whl (34 kB)\n",
      "Downloading hyperframe-6.1.0-py3-none-any.whl (13 kB)\n",
      "Building wheels for collected packages: grpclib\n",
      "  Building wheel for grpclib (pyproject.toml) ... \u001b[?25ldone\n",
      "\u001b[?25h  Created wheel for grpclib: filename=grpclib-0.4.7-py3-none-any.whl size=76229 sha256=ee583c2830be7bc33ed598d9bfd343bcb38d74802c5811cf7ce2cbc23316a7b6\n",
      "  Stored in directory: /home/codespace/.cache/pip/wheels/2f/c3/8a/5d9ac03578acaa3fcb488bab3f5e6664594ca88dd8f5494ee9\n",
      "Successfully built grpclib\n",
      "Installing collected packages: tqdm, securesystemslib, rfc8785, pyjwt, pydantic-core, pyasn1, protobuf, multidict, mdurl, hyperframe, hpack, dnspython, annotated-types, tuf, pydantic, markdown-it-py, in-toto-attestation, id, h2, email-validator, cryptography, rich, rfc3161-client, pyOpenSSL, grpclib, sigstore-rekor-types, betterproto, sigstore-protobuf-specs, sigstore, model-signing, kagglehub\n",
      "Successfully installed annotated-types-0.7.0 betterproto-2.0.0b6 cryptography-44.0.0 dnspython-2.7.0 email-validator-2.2.0 grpclib-0.4.7 h2-4.2.0 hpack-4.1.0 hyperframe-6.1.0 id-1.5.0 in-toto-attestation-0.9.3 kagglehub-0.3.7 markdown-it-py-3.0.0 mdurl-0.1.2 model-signing-0.2.0 multidict-6.1.0 protobuf-5.29.3 pyOpenSSL-25.0.0 pyasn1-0.6.1 pydantic-2.10.6 pydantic-core-2.27.2 pyjwt-2.10.1 rfc3161-client-0.1.2 rfc8785-0.1.4 rich-13.9.4 securesystemslib-1.2.0 sigstore-3.6.1 sigstore-protobuf-specs-0.3.2 sigstore-rekor-types-0.0.18 tqdm-4.67.1 tuf-5.1.0\n",
      "\n",
      "\u001b[1m[\u001b[0m\u001b[34;49mnotice\u001b[0m\u001b[1;39;49m]\u001b[0m\u001b[39;49m A new release of pip is available: \u001b[0m\u001b[31;49m24.3.1\u001b[0m\u001b[39;49m -> \u001b[0m\u001b[32;49m25.0\u001b[0m\n",
      "\u001b[1m[\u001b[0m\u001b[34;49mnotice\u001b[0m\u001b[1;39;49m]\u001b[0m\u001b[39;49m To update, run: \u001b[0m\u001b[32;49mpip install --upgrade pip\u001b[0m\n",
      "Note: you may need to restart the kernel to use updated packages.\n"
     ]
    }
   ],
   "source": [
    "pip install kagglehub"
   ]
  },
  {
   "cell_type": "code",
   "execution_count": 5,
   "id": "37486c5c-6d5b-45c1-a20d-1945bc0853a3",
   "metadata": {},
   "outputs": [
    {
     "name": "stderr",
     "output_type": "stream",
     "text": [
      "/home/codespace/.python/current/lib/python3.12/site-packages/tqdm/auto.py:21: TqdmWarning: IProgress not found. Please update jupyter and ipywidgets. See https://ipywidgets.readthedocs.io/en/stable/user_install.html\n",
      "  from .autonotebook import tqdm as notebook_tqdm\n"
     ]
    }
   ],
   "source": [
    "# Useful imports and utilities\n",
    "\n",
    "import numpy as np\n",
    "import pandas as pd\n",
    "import time\n",
    "import matplotlib.pyplot as plt\n",
    "import os\n",
    "import kagglehub\n",
    "import seaborn as sns\n",
    "\n",
    "from sklearn.linear_model import LinearRegression\n",
    "from sklearn.datasets import fetch_california_housing,make_regression\n",
    "from sklearn.metrics import mean_squared_error, mean_absolute_error, r2_score\n",
    "from sklearn.model_selection import train_test_split\n",
    "from sklearn.preprocessing import PolynomialFeatures\n",
    "\n",
    "from tqdm import tqdm\n",
    "from math import isclose\n",
    "\n",
    "# globals\n",
    "\n",
    "random_state = 42\n",
    "\n"
   ]
  },
  {
   "cell_type": "markdown",
   "id": "ab6560c4-2dc5-498b-b0cf-cbeee9b126f4",
   "metadata": {},
   "source": [
    "### Problem One:  Model Selection using Test Sets\n",
    "\n",
    "This week’s video explores the challenge of model selection in polynomial regression: how do we determine the best polynomial degree for our data? As we saw, increasing model complexity (in this case, polynomial degree) generally reduces training MSE. However, this does not necessarily mean better generalization, so: \n",
    "\n",
    "- How do we select a model that performs well on new data?\n",
    "- How do we strike the right balance between:\n",
    "   - Underfitting (high bias, low variance), and\n",
    "   - Overfitting (low bias, high variance)?\n",
    "\n",
    "To address this, we introduce **testing sets** and examine how evaluating models on unseen data provides a more reliable measure of generalization. "
   ]
  },
  {
   "cell_type": "markdown",
   "id": "e4a9244b-97aa-4fea-9739-113960d81c96",
   "metadata": {},
   "source": [
    "### Part A\n",
    "\n",
    "The following function will generate datasets suitable for polynomial regression with various characteristics:\n",
    "\n",
    "- `n_samples`: number of samples\n",
    "- `degree`: degree of the underlying polynomial model (with no noise)\n",
    "- `noise`: standard deviation of the noise added to the model\n",
    "- `show_data`, `show_model`: whether to show a plot of the dataset and the underlying model\n",
    "- `random_state`: random seed which controls how random choices are made; set to None if you want a different set of choices each time\n",
    "\n",
    "Your first task, as usual, is to play around with this a bit, changing the parameters in the call in the last line. There is no coding to be done (yet). "
   ]
  },
  {
   "cell_type": "code",
   "execution_count": 6,
   "id": "09d9ab76-ced6-40bd-b17a-bab9792fa963",
   "metadata": {
    "jupyter": {
     "source_hidden": true
    }
   },
   "outputs": [
    {
     "data": {
      "image/png": "[encoded data removed]",
      "text/plain": [
       "<Figure size 800x500 with 1 Axes>"
      ]
     },
     "metadata": {},
     "output_type": "display_data"
    }
   ],
   "source": [
    "def make_poly_model(n_samples=10, degree=4,noise=1.0, show_data=False, show_model=True,random_state=random_state):\n",
    "    \n",
    "    lb,ub = 1,6\n",
    "\n",
    "    def f(x):\n",
    "        if degree==2:\n",
    "            return 0.125*x**2 - 0.95*x + 1.925 \n",
    "        elif degree==3:\n",
    "            return 0.125*x**3 - 1.2*x**2 + 3*x + 0.5   \n",
    "        elif degree==4:\n",
    "            return 0.41*x**4 - 5.99*x**3 + 30.55*x**2 - 62.37*x + 41.4\n",
    "        elif degree==5:\n",
    "            return  -0.4*x**5 + 7.0*x**4 - 46.17*x**3 + 142.0*x**2 - 200.43*x + 102.0 \n",
    "        elif degree==6:\n",
    "            return -0.5219*x**6 + 10.7724*x**5 - 87.6206*x**4 + 355.7914*x**3 - 751.5246*x**2 + 774.0203*x - 300.917\n",
    "        else:\n",
    "            print(\"Degree must be in range [2..6]\")\n",
    "            return None\n",
    "            \n",
    "    X_all = np.linspace(lb,ub,1000)\n",
    "    y_perfect_model = f(X_all)\n",
    "\n",
    "    np.random.seed(random_state)\n",
    "    X = np.linspace(lb,ub,n_samples)             # evenly spaced samples for simplicity\n",
    "    y = f(X) + np.random.normal(0, noise,size=n_samples)\n",
    "\n",
    "    # Plotting the scatter plot of the data \n",
    "\n",
    "    if show_data:\n",
    "      \n",
    "        plt.figure(figsize=(8, 5))\n",
    "        plt.scatter(X, y, marker='.',label=f'Observed Data; Noise std = {noise}')\n",
    "        if show_model:\n",
    "            plt.plot(X_all, y_perfect_model, label='Underlying Model without noise', linestyle='--',color='grey', alpha=0.5)\n",
    "        plt.xlabel('X')\n",
    "        plt.ylabel('y')\n",
    "        plt.title(f'Degree {degree} Polynomial Noisy Dataset')\n",
    "        plt.legend()\n",
    "        plt.grid(True)\n",
    "        plt.show()\n",
    "        \n",
    "    return X.reshape(-1,1),y\n",
    "\n",
    "    \n",
    "X,y = make_poly_model(n_samples=200,degree=5,noise=2,show_data=True,random_state=None)"
   ]
  },
  {
   "cell_type": "markdown",
   "id": "10531f5d-391f-4e02-8cd8-3a4592713183",
   "metadata": {},
   "source": [
    "### Part B: Create a dataset with the following parameters:\n",
    "\n",
    "    n_samples=200\n",
    "    degree = 5\n",
    "    noise=10\n",
    "    test_size = 0.3\n",
    "    random_state = 42\n",
    "\n",
    "Leave the others at the defaults and then split it into four subsets using \n",
    "sklearn's `test_train_split`; your results should match the test case. "
   ]
  },
  {
   "cell_type": "code",
   "execution_count": 29,
   "id": "afcf20db",
   "metadata": {},
   "outputs": [
    {
     "name": "stdout",
     "output_type": "stream",
     "text": [
      "(140, 6) (60, 6) (140,) (60,)\n"
     ]
    }
   ],
   "source": [
    "X, y = make_poly_model(n_samples=200, noise=10, random_state=42)\n",
    "poly = PolynomialFeatures(degree=5)\n",
    "X_poly = poly.fit_transform(X)\n",
    "X_train, X_test, y_train, y_test = train_test_split(X_poly, y, test_size=0.3, random_state=42)\n",
    "print(X_train.shape, X_test.shape, y_train.shape, y_test.shape)"
   ]
  },
  {
   "cell_type": "code",
   "execution_count": 37,
   "id": "ffae25ac-25bc-412e-8bd6-3c9d2e8c73ef",
   "metadata": {},
   "outputs": [
    {
     "name": "stdout",
     "output_type": "stream",
     "text": [
      "(140, 1) (60, 1) (140,) (60,)\n"
     ]
    }
   ],
   "source": [
    "\n",
    "# Your code here\n",
    "def make_poly_model(n_samples=200, noise=10, random_state=42):\n",
    "    X, y = make_regression(n_samples=200, n_features=1, noise=10, random_state=42)\n",
    "    return X, y\n",
    "X, y = make_poly_model(n_samples=200, noise=10, random_state=42)\n",
    "X_train, X_test, y_train, y_test = train_test_split(X, y, test_size=0.3, random_state=42)\n",
    "print(X_train.shape, X_test.shape, y_train.shape, y_test.shape)\n",
    "\n",
    "# Test: Should print (140, 1) (60, 1) (140,) (60,)\n",
    "\n",
    "# print(X_train.shape, X_test.shape, y_train.shape, y_test.shape)"
   ]
  },
  {
   "cell_type": "markdown",
   "id": "263e8078-e0ae-4757-9309-943e7ba55950",
   "metadata": {},
   "source": [
    "### Part C: Investigating the model selection problem using test/train plots\n",
    "\n",
    "In this part, you will complete the template below to:\n",
    "- Train polynomial models of degree 1 .. 10 on the training dataset just produced;\n",
    "- Calculate the training MSE and the testing MSE for each model;\n",
    "- Plot the MSE curves vs the model degree (see the Appendix for an example plot); and\n",
    "- Print out the minimal testing MSE found, and the \"best\" model which produced this result. \n",
    "\n",
    "In the remaining parts of the problem, you will answer questions about this plot. \n"
   ]
  },
  {
   "cell_type": "code",
   "execution_count": 65,
   "id": "c664b3f4-9855-41db-bd48-c689cc9de3a5",
   "metadata": {},
   "outputs": [
    {
     "ename": "ValueError",
     "evalue": "x and y must have same first dimension, but have shapes (10,) and (11,)",
     "output_type": "error",
     "traceback": [
      "\u001b[0;31m---------------------------------------------------------------------------\u001b[0m",
      "\u001b[0;31mValueError\u001b[0m                                Traceback (most recent call last)",
      "Cell \u001b[0;32mIn[65], line 54\u001b[0m\n\u001b[1;32m     52\u001b[0m plt\u001b[38;5;241m.\u001b[39mplot(X_train, y_train_pred, color\u001b[38;5;241m=\u001b[39m\u001b[38;5;124m'\u001b[39m\u001b[38;5;124mred\u001b[39m\u001b[38;5;124m'\u001b[39m, label\u001b[38;5;241m=\u001b[39m\u001b[38;5;124m'\u001b[39m\u001b[38;5;124mTraining Set\u001b[39m\u001b[38;5;124m'\u001b[39m, alpha\u001b[38;5;241m=\u001b[39m\u001b[38;5;241m0.2\u001b[39m)\n\u001b[1;32m     53\u001b[0m plt\u001b[38;5;241m.\u001b[39mplot(X_test, y_test_pred, color\u001b[38;5;241m=\u001b[39m\u001b[38;5;124m'\u001b[39m\u001b[38;5;124mgreen\u001b[39m\u001b[38;5;124m'\u001b[39m, label\u001b[38;5;241m=\u001b[39m\u001b[38;5;124m'\u001b[39m\u001b[38;5;124mTest Set\u001b[39m\u001b[38;5;124m'\u001b[39m, alpha\u001b[38;5;241m=\u001b[39m\u001b[38;5;241m0.2\u001b[39m)\n\u001b[0;32m---> 54\u001b[0m \u001b[43mplt\u001b[49m\u001b[38;5;241;43m.\u001b[39;49m\u001b[43mplot\u001b[49m\u001b[43m(\u001b[49m\u001b[38;5;28;43mrange\u001b[39;49m\u001b[43m(\u001b[49m\u001b[38;5;241;43m1\u001b[39;49m\u001b[43m,\u001b[49m\u001b[43m \u001b[49m\u001b[43miterations\u001b[49m\u001b[38;5;241;43m+\u001b[39;49m\u001b[38;5;241;43m1\u001b[39;49m\u001b[43m)\u001b[49m\u001b[43m,\u001b[49m\u001b[43m \u001b[49m\u001b[43mtrain_errors\u001b[49m\u001b[43m,\u001b[49m\u001b[43m \u001b[49m\u001b[43mlabel\u001b[49m\u001b[38;5;241;43m=\u001b[39;49m\u001b[38;5;124;43m'\u001b[39;49m\u001b[38;5;124;43mTrain Errors\u001b[39;49m\u001b[38;5;124;43m'\u001b[39;49m\u001b[43m,\u001b[49m\u001b[43m \u001b[49m\u001b[43mmarker\u001b[49m\u001b[38;5;241;43m=\u001b[39;49m\u001b[38;5;124;43m'\u001b[39;49m\u001b[38;5;124;43m*\u001b[39;49m\u001b[38;5;124;43m'\u001b[39;49m\u001b[43m)\u001b[49m\n\u001b[1;32m     55\u001b[0m plt\u001b[38;5;241m.\u001b[39mplot(\u001b[38;5;28mrange\u001b[39m(\u001b[38;5;241m1\u001b[39m, iterations\u001b[38;5;241m+\u001b[39m\u001b[38;5;241m1\u001b[39m), test_errors, label\u001b[38;5;241m=\u001b[39m\u001b[38;5;124m'\u001b[39m\u001b[38;5;124mTest Errors\u001b[39m\u001b[38;5;124m'\u001b[39m, marker\u001b[38;5;241m=\u001b[39m\u001b[38;5;124m'\u001b[39m\u001b[38;5;124mD\u001b[39m\u001b[38;5;124m'\u001b[39m )\n\u001b[1;32m     56\u001b[0m plt\u001b[38;5;241m.\u001b[39mlegend()\n",
      "File \u001b[0;32m~/.local/lib/python3.12/site-packages/matplotlib/pyplot.py:3794\u001b[0m, in \u001b[0;36mplot\u001b[0;34m(scalex, scaley, data, *args, **kwargs)\u001b[0m\n\u001b[1;32m   3786\u001b[0m \u001b[38;5;129m@_copy_docstring_and_deprecators\u001b[39m(Axes\u001b[38;5;241m.\u001b[39mplot)\n\u001b[1;32m   3787\u001b[0m \u001b[38;5;28;01mdef\u001b[39;00m \u001b[38;5;21mplot\u001b[39m(\n\u001b[1;32m   3788\u001b[0m     \u001b[38;5;241m*\u001b[39margs: \u001b[38;5;28mfloat\u001b[39m \u001b[38;5;241m|\u001b[39m ArrayLike \u001b[38;5;241m|\u001b[39m \u001b[38;5;28mstr\u001b[39m,\n\u001b[0;32m   (...)\u001b[0m\n\u001b[1;32m   3792\u001b[0m     \u001b[38;5;241m*\u001b[39m\u001b[38;5;241m*\u001b[39mkwargs,\n\u001b[1;32m   3793\u001b[0m ) \u001b[38;5;241m-\u001b[39m\u001b[38;5;241m>\u001b[39m \u001b[38;5;28mlist\u001b[39m[Line2D]:\n\u001b[0;32m-> 3794\u001b[0m     \u001b[38;5;28;01mreturn\u001b[39;00m \u001b[43mgca\u001b[49m\u001b[43m(\u001b[49m\u001b[43m)\u001b[49m\u001b[38;5;241;43m.\u001b[39;49m\u001b[43mplot\u001b[49m\u001b[43m(\u001b[49m\n\u001b[1;32m   3795\u001b[0m \u001b[43m        \u001b[49m\u001b[38;5;241;43m*\u001b[39;49m\u001b[43margs\u001b[49m\u001b[43m,\u001b[49m\n\u001b[1;32m   3796\u001b[0m \u001b[43m        \u001b[49m\u001b[43mscalex\u001b[49m\u001b[38;5;241;43m=\u001b[39;49m\u001b[43mscalex\u001b[49m\u001b[43m,\u001b[49m\n\u001b[1;32m   3797\u001b[0m \u001b[43m        \u001b[49m\u001b[43mscaley\u001b[49m\u001b[38;5;241;43m=\u001b[39;49m\u001b[43mscaley\u001b[49m\u001b[43m,\u001b[49m\n\u001b[1;32m   3798\u001b[0m \u001b[43m        \u001b[49m\u001b[38;5;241;43m*\u001b[39;49m\u001b[38;5;241;43m*\u001b[39;49m\u001b[43m(\u001b[49m\u001b[43m{\u001b[49m\u001b[38;5;124;43m\"\u001b[39;49m\u001b[38;5;124;43mdata\u001b[39;49m\u001b[38;5;124;43m\"\u001b[39;49m\u001b[43m:\u001b[49m\u001b[43m \u001b[49m\u001b[43mdata\u001b[49m\u001b[43m}\u001b[49m\u001b[43m \u001b[49m\u001b[38;5;28;43;01mif\u001b[39;49;00m\u001b[43m \u001b[49m\u001b[43mdata\u001b[49m\u001b[43m \u001b[49m\u001b[38;5;129;43;01mis\u001b[39;49;00m\u001b[43m \u001b[49m\u001b[38;5;129;43;01mnot\u001b[39;49;00m\u001b[43m \u001b[49m\u001b[38;5;28;43;01mNone\u001b[39;49;00m\u001b[43m \u001b[49m\u001b[38;5;28;43;01melse\u001b[39;49;00m\u001b[43m \u001b[49m\u001b[43m{\u001b[49m\u001b[43m}\u001b[49m\u001b[43m)\u001b[49m\u001b[43m,\u001b[49m\n\u001b[1;32m   3799\u001b[0m \u001b[43m        \u001b[49m\u001b[38;5;241;43m*\u001b[39;49m\u001b[38;5;241;43m*\u001b[39;49m\u001b[43mkwargs\u001b[49m\u001b[43m,\u001b[49m\n\u001b[1;32m   3800\u001b[0m \u001b[43m    \u001b[49m\u001b[43m)\u001b[49m\n",
      "File \u001b[0;32m~/.local/lib/python3.12/site-packages/matplotlib/axes/_axes.py:1779\u001b[0m, in \u001b[0;36mAxes.plot\u001b[0;34m(self, scalex, scaley, data, *args, **kwargs)\u001b[0m\n\u001b[1;32m   1536\u001b[0m \u001b[38;5;250m\u001b[39m\u001b[38;5;124;03m\"\"\"\u001b[39;00m\n\u001b[1;32m   1537\u001b[0m \u001b[38;5;124;03mPlot y versus x as lines and/or markers.\u001b[39;00m\n\u001b[1;32m   1538\u001b[0m \n\u001b[0;32m   (...)\u001b[0m\n\u001b[1;32m   1776\u001b[0m \u001b[38;5;124;03m(``'green'``) or hex strings (``'#008000'``).\u001b[39;00m\n\u001b[1;32m   1777\u001b[0m \u001b[38;5;124;03m\"\"\"\u001b[39;00m\n\u001b[1;32m   1778\u001b[0m kwargs \u001b[38;5;241m=\u001b[39m cbook\u001b[38;5;241m.\u001b[39mnormalize_kwargs(kwargs, mlines\u001b[38;5;241m.\u001b[39mLine2D)\n\u001b[0;32m-> 1779\u001b[0m lines \u001b[38;5;241m=\u001b[39m [\u001b[38;5;241m*\u001b[39m\u001b[38;5;28mself\u001b[39m\u001b[38;5;241m.\u001b[39m_get_lines(\u001b[38;5;28mself\u001b[39m, \u001b[38;5;241m*\u001b[39margs, data\u001b[38;5;241m=\u001b[39mdata, \u001b[38;5;241m*\u001b[39m\u001b[38;5;241m*\u001b[39mkwargs)]\n\u001b[1;32m   1780\u001b[0m \u001b[38;5;28;01mfor\u001b[39;00m line \u001b[38;5;129;01min\u001b[39;00m lines:\n\u001b[1;32m   1781\u001b[0m     \u001b[38;5;28mself\u001b[39m\u001b[38;5;241m.\u001b[39madd_line(line)\n",
      "File \u001b[0;32m~/.local/lib/python3.12/site-packages/matplotlib/axes/_base.py:296\u001b[0m, in \u001b[0;36m_process_plot_var_args.__call__\u001b[0;34m(self, axes, data, *args, **kwargs)\u001b[0m\n\u001b[1;32m    294\u001b[0m     this \u001b[38;5;241m+\u001b[39m\u001b[38;5;241m=\u001b[39m args[\u001b[38;5;241m0\u001b[39m],\n\u001b[1;32m    295\u001b[0m     args \u001b[38;5;241m=\u001b[39m args[\u001b[38;5;241m1\u001b[39m:]\n\u001b[0;32m--> 296\u001b[0m \u001b[38;5;28;01myield from\u001b[39;00m \u001b[38;5;28;43mself\u001b[39;49m\u001b[38;5;241;43m.\u001b[39;49m\u001b[43m_plot_args\u001b[49m\u001b[43m(\u001b[49m\n\u001b[1;32m    297\u001b[0m \u001b[43m    \u001b[49m\u001b[43maxes\u001b[49m\u001b[43m,\u001b[49m\u001b[43m \u001b[49m\u001b[43mthis\u001b[49m\u001b[43m,\u001b[49m\u001b[43m \u001b[49m\u001b[43mkwargs\u001b[49m\u001b[43m,\u001b[49m\u001b[43m \u001b[49m\u001b[43mambiguous_fmt_datakey\u001b[49m\u001b[38;5;241;43m=\u001b[39;49m\u001b[43mambiguous_fmt_datakey\u001b[49m\u001b[43m)\u001b[49m\n",
      "File \u001b[0;32m~/.local/lib/python3.12/site-packages/matplotlib/axes/_base.py:486\u001b[0m, in \u001b[0;36m_process_plot_var_args._plot_args\u001b[0;34m(self, axes, tup, kwargs, return_kwargs, ambiguous_fmt_datakey)\u001b[0m\n\u001b[1;32m    483\u001b[0m     axes\u001b[38;5;241m.\u001b[39myaxis\u001b[38;5;241m.\u001b[39mupdate_units(y)\n\u001b[1;32m    485\u001b[0m \u001b[38;5;28;01mif\u001b[39;00m x\u001b[38;5;241m.\u001b[39mshape[\u001b[38;5;241m0\u001b[39m] \u001b[38;5;241m!=\u001b[39m y\u001b[38;5;241m.\u001b[39mshape[\u001b[38;5;241m0\u001b[39m]:\n\u001b[0;32m--> 486\u001b[0m     \u001b[38;5;28;01mraise\u001b[39;00m \u001b[38;5;167;01mValueError\u001b[39;00m(\u001b[38;5;124mf\u001b[39m\u001b[38;5;124m\"\u001b[39m\u001b[38;5;124mx and y must have same first dimension, but \u001b[39m\u001b[38;5;124m\"\u001b[39m\n\u001b[1;32m    487\u001b[0m                      \u001b[38;5;124mf\u001b[39m\u001b[38;5;124m\"\u001b[39m\u001b[38;5;124mhave shapes \u001b[39m\u001b[38;5;132;01m{\u001b[39;00mx\u001b[38;5;241m.\u001b[39mshape\u001b[38;5;132;01m}\u001b[39;00m\u001b[38;5;124m and \u001b[39m\u001b[38;5;132;01m{\u001b[39;00my\u001b[38;5;241m.\u001b[39mshape\u001b[38;5;132;01m}\u001b[39;00m\u001b[38;5;124m\"\u001b[39m)\n\u001b[1;32m    488\u001b[0m \u001b[38;5;28;01mif\u001b[39;00m x\u001b[38;5;241m.\u001b[39mndim \u001b[38;5;241m>\u001b[39m \u001b[38;5;241m2\u001b[39m \u001b[38;5;129;01mor\u001b[39;00m y\u001b[38;5;241m.\u001b[39mndim \u001b[38;5;241m>\u001b[39m \u001b[38;5;241m2\u001b[39m:\n\u001b[1;32m    489\u001b[0m     \u001b[38;5;28;01mraise\u001b[39;00m \u001b[38;5;167;01mValueError\u001b[39;00m(\u001b[38;5;124mf\u001b[39m\u001b[38;5;124m\"\u001b[39m\u001b[38;5;124mx and y can be no greater than 2D, but have \u001b[39m\u001b[38;5;124m\"\u001b[39m\n\u001b[1;32m    490\u001b[0m                      \u001b[38;5;124mf\u001b[39m\u001b[38;5;124m\"\u001b[39m\u001b[38;5;124mshapes \u001b[39m\u001b[38;5;132;01m{\u001b[39;00mx\u001b[38;5;241m.\u001b[39mshape\u001b[38;5;132;01m}\u001b[39;00m\u001b[38;5;124m and \u001b[39m\u001b[38;5;132;01m{\u001b[39;00my\u001b[38;5;241m.\u001b[39mshape\u001b[38;5;132;01m}\u001b[39;00m\u001b[38;5;124m\"\u001b[39m)\n",
      "\u001b[0;31mValueError\u001b[0m: x and y must have same first dimension, but have shapes (10,) and (11,)"
     ]
    },
    {
     "data": {
      "image/png": "[encoded data removed]",
      "text/plain": [
       "<Figure size 1000x600 with 1 Axes>"
      ]
     },
     "metadata": {},
     "output_type": "display_data"
    }
   ],
   "source": [
    "# Template for Problem One Part C\n",
    "\n",
    "degrees = range(1,11) # try polynomials of these degrees\n",
    "train_errors = []     # store training MSEs for each degree here\n",
    "test_errors  = []     # store testing MSEs for each degree here\n",
    "\n",
    "for d in degrees:\n",
    "\n",
    "    pass             # remove: just to get the cell to run without error\n",
    "\n",
    "    # Use PolynomialFeatures to transform the data into appropriate form for\n",
    "    # a polynomial model of degree d.\n",
    "\n",
    "        # Your code here\n",
    "poly = PolynomialFeatures(degree=d)\n",
    "X_poly = poly.fit_transform(X)\n",
    "\n",
    "    # Fit a linear regression model on the transformed data\n",
    "\n",
    "        # Your code here\n",
    "model = LinearRegression()\n",
    "model.fit(X_train, y_train)\n",
    "\n",
    "    # Predict on the train and test sets\n",
    "\n",
    "        # Your code here\n",
    "y_train_pred = model.predict(X_train)\n",
    "y_test_pred = model.predict(X_test)\n",
    "\n",
    "    # Calculate the MSEs and append to the appropriate lists\n",
    "\n",
    "        # Your code here\n",
    "train_mse = mean_squared_error(y_train, y_train_pred)\n",
    "test_mse = mean_squared_error(y_test, y_test_pred)\n",
    "train_errors.append(train_mse)\n",
    "test_errors.append(test_mse)\n",
    "    \n",
    "# Plot training and test MSEs vs degree of model using train_errors and test_errors\n",
    "# Note that the x axis should have ticks for 1 .. 10 only\n",
    "\n",
    "# Your code here\n",
    "iterations = 10\n",
    "for i in range(1, iterations+1):\n",
    "    model.fit(X_train, y_train)\n",
    "    y_train_pred = model.predict(X_train)\n",
    "    y_test_pred = model.predict(X_test)\n",
    "    train_errors.append(mean_squared_error(y_train, y_train_pred))\n",
    "    test_errors.append(mean_squared_error(y_test, y_test_pred))\n",
    "\n",
    "plt.figure(figsize=(10,6))\n",
    "plt.scatter(X,y, color='blue', label='Observed Data', alpha=0.5)\n",
    "plt.plot(X_train, y_train_pred, color='red', label='Training Set', alpha=0.2)\n",
    "plt.plot(X_test, y_test_pred, color='green', label='Test Set', alpha=0.2)\n",
    "plt.plot(range(1, iterations+1), train_errors, label='Train Errors', marker='*')\n",
    "plt.plot(range(1, iterations+1), test_errors, label='Test Errors', marker='D' )\n",
    "plt.legend()\n",
    "\n",
    "\n",
    "\n",
    "\n",
    "# Calculate minimal MSE and degree for test set and print out \n",
    "# Hint: notice carefully that the MSE lists are for degrees [1, 2, 3, ....]  (i.e., index + 1)\n",
    "\n",
    "# Your code here\n"
   ]
  },
  {
   "cell_type": "markdown",
   "id": "3d8263e2-0eb3-435d-98e3-a29f2550e556",
   "metadata": {},
   "source": [
    "### Part D: Minimum MSE \n",
    "\n",
    "Set the variable to the minimum test MSE found for the given parameter choices."
   ]
  },
  {
   "cell_type": "code",
   "execution_count": 69,
   "id": "f5e0ca6f-b1b7-4c20-b678-eb5efb8b9e9c",
   "metadata": {},
   "outputs": [
    {
     "name": "stdout",
     "output_type": "stream",
     "text": [
      "a1d = 0.0000\n"
     ]
    }
   ],
   "source": [
    "\n",
    "a1d = 0.00                             # Just to get the cell to run without errors, replace by appropriate expression\n",
    "\n",
    "print(f'a1d = {a1d:.4f}')              # Do NOT change this print statement in any way, it is used by the auto-grader!"
   ]
  },
  {
   "cell_type": "markdown",
   "id": "c5d89716-3ff9-410a-b757-348813d79d7f",
   "metadata": {},
   "source": [
    "### Part E: Lower Bound for Testing MSE\n",
    "\n",
    "The lower bound for the testing MSE is the MSE of the data points compared to\n",
    "the underlying model with no noise. \n",
    "\n",
    "Calculate this lower bound and assign it to the variable `a1e`. \n",
    "\n",
    "Hint: Construct a second dataset exactly the same as the original but with noise = 0.0."
   ]
  },
  {
   "cell_type": "code",
   "execution_count": 6,
   "id": "ee0aee1a-016e-4bfc-b40f-cd398f7f5bcd",
   "metadata": {},
   "outputs": [
    {
     "name": "stdout",
     "output_type": "stream",
     "text": [
      "a1e = 0.0000\n"
     ]
    }
   ],
   "source": [
    "# Your code here\n",
    "\n",
    "a1e = 0.0                                  # Just to get the cell to run without errors, replace by appropriate expression\n",
    "\n",
    "print(f'a1e = {a1e:.4f}')                  # Do NOT change this print statement in any way, it is used by the auto-grader!"
   ]
  },
  {
   "cell_type": "markdown",
   "id": "b0ca0f06-5073-46b0-87b1-b2029f83b7bf",
   "metadata": {},
   "source": [
    "#### For the last two parts of this problem, you must experiment with changes to the following parameters:\n",
    "\n",
    "- `n_samples`:  Try 10, 20, 50, 100, 200, 500, 1000\n",
    "- `noise`: Try 0, 5, 10, 20, 50, 100, 500, 1000\n",
    "- `random_state`: None           (then you can try multiple times with the same parameter choices)\n",
    "\n",
    "It is sufficient for this problem to simply change each of these\n",
    "separately, giving 7 + 8  = 15 trials. \n",
    "\n",
    "**Optional:**  For each parameter choice, try multiple times, with the random choices being different each time, by setting `random_state = None`. \n",
    "\n",
    "**Answer the following questions** based on these experiments. \n",
    "\n"
   ]
  },
  {
   "cell_type": "markdown",
   "id": "e3e1f893-50d1-4c77-a6dc-2f0621680874",
   "metadata": {},
   "source": [
    "### Part F: Training MSE\n",
    "\n",
    "Set the variable to the single **most correct** answer.\n",
    "\n",
    "As the degree increases, throughout all the experiments, the training MSE appears to ...\n",
    "\n",
    "1. Fluctuate unpredictably.\n",
    "2. Never increase (gets smaller or stays the same in each step).\n",
    "3. Decrease rapidly to degree 5 and then flatten out (not change much).\n",
    "4. Always be higher than the test MSE."
   ]
  },
  {
   "cell_type": "code",
   "execution_count": 7,
   "id": "a120eca1-750d-48b3-9546-0fc834e54874",
   "metadata": {},
   "outputs": [
    {
     "name": "stdout",
     "output_type": "stream",
     "text": [
      "a1f = Ellipsis\n"
     ]
    }
   ],
   "source": [
    "\n",
    "a1f = ...                     # Must be one of 1, 2, 3, 4\n",
    "\n",
    "print(f'a1f = {a1f}')         # Do NOT change this print statement in any way, it is used by the auto-grader!"
   ]
  },
  {
   "cell_type": "markdown",
   "id": "edc3a835-9be6-4460-8dc8-dff3d6b7fbc9",
   "metadata": {},
   "source": [
    "### Part G: Effect of Noise\n",
    "\n",
    "Set the variable to the single **most correct** answer.\n",
    "\n",
    "If we leave all parameters the same, except we set noise to increasingly larger values ...\n",
    "\n",
    "1. The best degree alternates between 5 and 6. \n",
    "2. The shapes of both plots is always essentially the same, the only change being the scale of the Y axis. \n",
    "3. The least MSE increases approximately proportionally to the square of the noise. \n",
    "4. The best degree found is always the same, and the least MSE increases approximately proportionally with the noise. "
   ]
  },
  {
   "cell_type": "code",
   "execution_count": 8,
   "id": "f8c9df66-cf4d-4931-adb1-f280d517a433",
   "metadata": {},
   "outputs": [
    {
     "name": "stdout",
     "output_type": "stream",
     "text": [
      "a1g = Ellipsis\n"
     ]
    }
   ],
   "source": [
    "# Give the degree where this minimum test MSE was found\n",
    "\n",
    "a1g = ...                              # Must be one of 1, 2, 3, 4\n",
    "\n",
    "print(f'a1g = {a1g}')                  # Do NOT change this print statement in any way, it is used by the auto-grader!"
   ]
  },
  {
   "cell_type": "markdown",
   "id": "bbe7005a-88e3-449c-9e66-a7c07b948928",
   "metadata": {},
   "source": [
    "### Optional: Run more tests, with different degrees of polynomial as well!\n",
    "\n",
    "If you have time to try more experiments, say by changing the degree, you will see that I chose the default parameters for our investigations\n",
    "with some care, because you won't always get the beautiful curves shown in the testbooks, and you won't always get the correct degree when selecting\n",
    "the \"best\" model based on the testing MSE. "
   ]
  },
  {
   "cell_type": "markdown",
   "id": "35e98d1f-e611-4e79-bd8c-2396f0f1c135",
   "metadata": {},
   "source": [
    "## **Intro to Problem Two**\n",
    "\n",
    "We have seen that we can preprocess data by constructing new features that encode **nonlinear functions** of existing features. In statistical learning theory, these transformations are often called **basis functions**. So far, we have explored only the simplest case—extending a univariate regression problem with polynomial terms like $x^2$, $x^3$, and so on. However, **any** nonlinear transformation of the features can be computed and either **added to** or **used in place of** existing features.\n",
    "\n",
    "#### **Examples of Nonlinear Basis Functions**\n",
    "#### **1. Polynomial Transforms**\n",
    "So far, we have only considered the univariate case of polynomial regression, where we add new features such as $x^2, x^3, \\dots$. However, with multiple features, we also generate **interaction terms** such as $x_1 x_2$.  \n",
    "\n",
    "For example, a full quadratic polynomial regression on features $x_1$ and $x_2$ introduces three additional terms:\n",
    "\n",
    "$$\n",
    "y = \\beta_0\n",
    "+ \\beta_1 x_1 + \\beta_2 x_2\n",
    "+ \\underline{\\beta_3 x_1^2 + \\beta_4 x_2^2 + \\beta_5 x_1 x_2}\n",
    "$$\n",
    "\n",
    "\n",
    "\n",
    "Since the number of terms in polynomial expansions grows very quickly, it is common to limit interactions to only a few key features.\n",
    "\n",
    "#### **2. Log Transforms**\n",
    "A logarithmic transformation—such as $\\log(y)$—is useful when a feature (or the target variable) spans multiple orders of magnitude or appears to grow exponentially fast. This transformation helps stabilize variance, making relationships more linear and easier to model.\n",
    "\n",
    "#### **3. Exponential Transforms**\n",
    "In contrast to log transforms, an exponential transformation** (e.g., $2^{x_1}$) can be useful when a feature exhibits exponential decay instead of growth. This can help capture relationships where small changes in a feature have large effects on the target variable.\n",
    "\n"
   ]
  },
  {
   "cell_type": "markdown",
   "id": "663303c8-3fe0-4fb4-9a56-dd767bee8f29",
   "metadata": {},
   "source": [
    "## Problem Two: Linear Regression with Feature Engineering on the California Housing Dataset\n",
    "\n",
    "The transforms we will investigate in this problem, using the **CA Housing Dataset**, are as follows:\n",
    "\n",
    "#### 2.1 Log-transform the target:\n",
    "\n",
    "Because housing prices can vary wildly,  replace $y$ by its log-transform:\n",
    "\n",
    "$$\n",
    "    y = \\log(\\text{MedHouseVal}).\n",
    "$$\n",
    "\n",
    "\n",
    "#### 2.2 Log-transform a feature\n",
    "\n",
    "\n",
    "Since  *Median Income* ranges widely, add a feature\n",
    "\n",
    "$$\n",
    "    \\text{LogMedInc} = \\log(\\text{MedInc}).\n",
    "$$\n",
    "\n",
    "\n",
    "#### 2.3 Polynomial features for slight curvature\n",
    "\n",
    "You might suspect that increasing *population* from 1,000 to 2,000 has a bigger effect on price than from 10,000 to 11,000 (diminishing returns).  \n",
    "Thus, add a quadratic term to include polynomial regression on this feature:\n",
    "\n",
    "$$\n",
    "    \\text{PopSquared} = (\\text{Population})**2\n",
    "$$\n",
    "\n",
    "\n",
    "#### 2.4 Interaction features\n",
    "\n",
    "It might be that *average rooms* matter more if *average bedrooms* is above some threshold. One way to let your linear model handle this is to add the product term:\n",
    "\n",
    "$$\\text{RoomsTimesBeds} = \\text{AveRooms} \\times \\text{AveBedrms}. $$\n",
    "\n",
    "In an ordinary linear regression, you’d then have something like\n",
    "\n",
    "$$\\text{MedHouseVal} \\approx \\beta_0 + \\beta_1\\,\\text{AveRooms} + \\beta_2\\,\\text{AveBedrms} + \\beta_3\\,\\text{RoomsTimesBeds} + \\dots$$\n",
    "\n",
    "The coefficient $\\beta_3$ shows how the slope for *AveRooms* depends on *AveBedrms* (and vice versa).\n",
    "\n",
    "\n",
    "\n",
    "**Note:** The usual practice is that we **replace** the target by a new target, but **add** transformed features. In a later lesson, we will investigate **feature selection**, in which we may delete features which are insignificant or noisy. \n",
    "\n"
   ]
  },
  {
   "cell_type": "markdown",
   "id": "193eb3bb-0768-470f-b009-32e439480c9c",
   "metadata": {},
   "source": [
    "## Your Turn!\n",
    "In this problem, you will apply feature engineering to the **California Housing Dataset** and evaluate its impact on linear regression performance.\n",
    "\n",
    "### Part A. Load the Data  \n",
    "- Code to load the dataset from `sklearn.datasets` is provided.  \n",
    "\n",
    "### Part B. Train Regression Models & Compute Metrics  \n",
    "Perform linear (multiple) regression using `MedHouseVal` as the target and compute **testing MSE and $R^2$ values** for each of the following cases:  \n",
    "\n",
    "1. **Baseline Model** – Use the original dataset without feature engineering.  \n",
    "2. **Single Transformations Models** – Apply each of the transformations (2.1–2.4) one at a time, keeping all other features unchanged (resulting in 4 models).  \n",
    "3. **All Transformations Model** – Apply all transformations simultaneously and evaluate the model.  \n",
    "\n",
    "### Part C. Summarize & Visualize Results  \n",
    "- Display the results in **tabular format** showing testing MSE and $R^2$ values for all experiments (don't overthink this, but at least label and line up each column).  \n",
    "- Plot results using two **bar charts** (at least give a title to each chart and label each bar).  \n",
    "  - Compare the MSEs but exclude models with log-transformed target (where the MSE is in log-space and not directly comparable).  \n",
    "  - Compare $R^2$ values for all models. \n",
    "\n",
    "### Part D. Complete Graded Questions  \n",
    "\n",
    " \n",
    "**Note: To ensure reproducibility, always use `random_state=42` in all relevant functions.**\n"
   ]
  },
  {
   "cell_type": "markdown",
   "id": "723ea40e-4392-42f7-9730-bfe7446cca63",
   "metadata": {},
   "source": [
    "### Part A"
   ]
  },
  {
   "cell_type": "code",
   "execution_count": 70,
   "id": "faa9bd13-ef03-4c8f-b0bf-ae4daca65754",
   "metadata": {},
   "outputs": [
    {
     "data": {
      "text/html": [
       "<div>\n",
       "<style scoped>\n",
       "    .dataframe tbody tr th:only-of-type {\n",
       "        vertical-align: middle;\n",
       "    }\n",
       "\n",
       "    .dataframe tbody tr th {\n",
       "        vertical-align: top;\n",
       "    }\n",
       "\n",
       "    .dataframe thead th {\n",
       "        text-align: right;\n",
       "    }\n",
       "</style>\n",
       "<table border=\"1\" class=\"dataframe\">\n",
       "  <thead>\n",
       "    <tr style=\"text-align: right;\">\n",
       "      <th></th>\n",
       "      <th>MedInc</th>\n",
       "      <th>HouseAge</th>\n",
       "      <th>AveRooms</th>\n",
       "      <th>AveBedrms</th>\n",
       "      <th>Population</th>\n",
       "      <th>AveOccup</th>\n",
       "      <th>Latitude</th>\n",
       "      <th>Longitude</th>\n",
       "      <th>MedHouseVal</th>\n",
       "    </tr>\n",
       "  </thead>\n",
       "  <tbody>\n",
       "    <tr>\n",
       "      <th>0</th>\n",
       "      <td>8.3252</td>\n",
       "      <td>41.0</td>\n",
       "      <td>6.984127</td>\n",
       "      <td>1.023810</td>\n",
       "      <td>322.0</td>\n",
       "      <td>2.555556</td>\n",
       "      <td>37.88</td>\n",
       "      <td>-122.23</td>\n",
       "      <td>4.526</td>\n",
       "    </tr>\n",
       "    <tr>\n",
       "      <th>1</th>\n",
       "      <td>8.3014</td>\n",
       "      <td>21.0</td>\n",
       "      <td>6.238137</td>\n",
       "      <td>0.971880</td>\n",
       "      <td>2401.0</td>\n",
       "      <td>2.109842</td>\n",
       "      <td>37.86</td>\n",
       "      <td>-122.22</td>\n",
       "      <td>3.585</td>\n",
       "    </tr>\n",
       "    <tr>\n",
       "      <th>2</th>\n",
       "      <td>7.2574</td>\n",
       "      <td>52.0</td>\n",
       "      <td>8.288136</td>\n",
       "      <td>1.073446</td>\n",
       "      <td>496.0</td>\n",
       "      <td>2.802260</td>\n",
       "      <td>37.85</td>\n",
       "      <td>-122.24</td>\n",
       "      <td>3.521</td>\n",
       "    </tr>\n",
       "    <tr>\n",
       "      <th>3</th>\n",
       "      <td>5.6431</td>\n",
       "      <td>52.0</td>\n",
       "      <td>5.817352</td>\n",
       "      <td>1.073059</td>\n",
       "      <td>558.0</td>\n",
       "      <td>2.547945</td>\n",
       "      <td>37.85</td>\n",
       "      <td>-122.25</td>\n",
       "      <td>3.413</td>\n",
       "    </tr>\n",
       "    <tr>\n",
       "      <th>4</th>\n",
       "      <td>3.8462</td>\n",
       "      <td>52.0</td>\n",
       "      <td>6.281853</td>\n",
       "      <td>1.081081</td>\n",
       "      <td>565.0</td>\n",
       "      <td>2.181467</td>\n",
       "      <td>37.85</td>\n",
       "      <td>-122.25</td>\n",
       "      <td>3.422</td>\n",
       "    </tr>\n",
       "  </tbody>\n",
       "</table>\n",
       "</div>"
      ],
      "text/plain": [
       "   MedInc  HouseAge  AveRooms  AveBedrms  Population  AveOccup  Latitude  \\\n",
       "0  8.3252      41.0  6.984127   1.023810       322.0  2.555556     37.88   \n",
       "1  8.3014      21.0  6.238137   0.971880      2401.0  2.109842     37.86   \n",
       "2  7.2574      52.0  8.288136   1.073446       496.0  2.802260     37.85   \n",
       "3  5.6431      52.0  5.817352   1.073059       558.0  2.547945     37.85   \n",
       "4  3.8462      52.0  6.281853   1.081081       565.0  2.181467     37.85   \n",
       "\n",
       "   Longitude  MedHouseVal  \n",
       "0    -122.23        4.526  \n",
       "1    -122.22        3.585  \n",
       "2    -122.24        3.521  \n",
       "3    -122.25        3.413  \n",
       "4    -122.25        3.422  "
      ]
     },
     "execution_count": 70,
     "metadata": {},
     "output_type": "execute_result"
    }
   ],
   "source": [
    "# 1. Load the California Housing data into a DataFrame\n",
    "data = fetch_california_housing(as_frame=True)\n",
    "df = data.frame  # The dataset in pandas DataFrame format\n",
    "\n",
    "df.head()"
   ]
  },
  {
   "cell_type": "markdown",
   "id": "b3bd7585-9b53-474a-8611-bcc8d1a19ee4",
   "metadata": {},
   "source": [
    "### Part B\n",
    "\n",
    "You may create additional code cells as you wish. "
   ]
  },
  {
   "cell_type": "code",
   "execution_count": 79,
   "id": "812904cb",
   "metadata": {},
   "outputs": [
    {
     "name": "stdout",
     "output_type": "stream",
     "text": [
      "Baseline MSE: 0.5559\n",
      "Baseline R2: 0.5758\n"
     ]
    }
   ],
   "source": [
    "# code for baseline model \n",
    "x = df.drop('MedHouseVal', axis=1)\n",
    "y = df['MedHouseVal']\n",
    "x_train, x_test, y_train, y_test = train_test_split(x,y,test_size=0.2, random_state=42)\n",
    "model = LinearRegression()\n",
    "model.fit(x_train, y_train)\n",
    "y_pred = model.predict(x_test)\n",
    "mse = mean_squared_error(y_test, y_pred)\n",
    "r2 = r2_score(y_test, y_pred)\n",
    "print(f\"Baseline MSE: {mse:.4f}\")\n",
    "print(f\"Baseline R2: {r2:.4f}\")"
   ]
  },
  {
   "cell_type": "code",
   "execution_count": 82,
   "id": "9df98d8b",
   "metadata": {},
   "outputs": [
    {
     "name": "stdout",
     "output_type": "stream",
     "text": [
      "log-transform target MSE: 0.1318\n",
      "log-transform target R2: 0.5939\n"
     ]
    }
   ],
   "source": [
    "# code for log-transform the target model \n",
    "\n",
    "x = df.drop('MedHouseVal', axis=1)\n",
    "y = np.log(df['MedHouseVal'])\n",
    "x_train, x_test, y_train, y_test = train_test_split(x,y,test_size=0.2, random_state=42)\n",
    "model = LinearRegression()\n",
    "model.fit(x_train, y_train)\n",
    "y_pred = model.predict(x_test)\n",
    "log_mse = mean_squared_error(y_test, y_pred)\n",
    "log_r2 = r2_score(y_test, y_pred)\n",
    "print(f\"log-transform target MSE: {log_mse:.4f}\")\n",
    "print(f\"log-transform target R2: {log_r2:.4f}\")"
   ]
  },
  {
   "cell_type": "code",
   "execution_count": 88,
   "id": "79ea85bd",
   "metadata": {},
   "outputs": [
    {
     "name": "stdout",
     "output_type": "stream",
     "text": [
      "log-transform feature MSE: 0.6151\n",
      "log-transform feature R2: 0.5306\n"
     ]
    }
   ],
   "source": [
    "# code for log-transform a feature model \n",
    "feature = df['MedInc']\n",
    "x = df.drop(['MedHouseVal', 'MedInc'], axis=1)\n",
    "df['log_MedInc'] = np.log(df['MedInc'])\n",
    "x['log_MedInc']= df['log_MedInc']\n",
    "y = df['MedHouseVal']\n",
    "x_train, x_test, y_train, y_test = train_test_split(x,y,test_size=0.2, random_state=42)\n",
    "model = LinearRegression()\n",
    "model.fit(x_train, y_train)\n",
    "y_pred = model.predict(x_test)\n",
    "log_feature_mse = mean_squared_error(y_test, y_pred)\n",
    "log_feature_r2 = r2_score(y_test, y_pred)\n",
    "print(f\"log-transform feature MSE: {log_feature_mse:.4f}\")\n",
    "print(f\"log-transform feature R2: {log_feature_r2:.4f}\")"
   ]
  },
  {
   "cell_type": "code",
   "execution_count": 97,
   "id": "65a26735",
   "metadata": {},
   "outputs": [
    {
     "name": "stdout",
     "output_type": "stream",
     "text": [
      "polynomial feature MSE: 1.2767\n",
      "polynomial feature R2: 0.0257\n"
     ]
    }
   ],
   "source": [
    "# code for polynomial feature model \n",
    "x = df.drop(['MedHouseVal'], axis=1)\n",
    "df['PopSquared'] = df['Population']**2\n",
    "x['PopSquared'] = df['PopSquared']\n",
    "y = df['MedHouseVal']\n",
    "x_train, x_test, y_train, y_test = train_test_split(x,y,test_size=0.2, random_state=42)\n",
    "poly = PolynomialFeatures(degree=2)\n",
    "x_train_poly = poly.fit_transform(x_train)\n",
    "x_test_poly = poly.transform(x_test)\n",
    "model= LinearRegression()\n",
    "model.fit(x_train_poly, y_train)\n",
    "y_pred = model.predict(x_test_poly)\n",
    "poly_mse = mean_squared_error(y_test, y_pred)\n",
    "poly_r2 = r2_score(y_test, y_pred)\n",
    "print(f\"polynomial feature MSE: {poly_mse:.4f}\")\n",
    "print(f\"polynomial feature R2: {poly_r2:.4f}\")"
   ]
  },
  {
   "cell_type": "code",
   "execution_count": 98,
   "id": "9221ab08",
   "metadata": {},
   "outputs": [
    {
     "name": "stdout",
     "output_type": "stream",
     "text": [
      "interaction feature MSE: 0.5622\n",
      "interaction feature R2: 0.5709\n"
     ]
    }
   ],
   "source": [
    "# code for interaction features model \n",
    "\n",
    "df['RoomsTimesBeds'] = df['AveRooms']* df['AveBedrms']\n",
    "x = df.drop(['MedHouseVal'], axis=1)\n",
    "y = df['MedHouseVal']\n",
    "x_train, x_test, y_train, y_test = train_test_split(x,y,test_size=0.2, random_state=42)\n",
    "model= LinearRegression()\n",
    "model.fit(x_train, y_train)\n",
    "y_pred = model.predict(x_test)\n",
    "mse_interaction_features = mean_squared_error(y_test, y_pred)\n",
    "r2_interaction_features = r2_score(y_test, y_pred)\n",
    "print(f\"interaction feature MSE: {mse_interaction_features:.4f}\")\n",
    "print(f\"interaction feature R2: {r2_interaction_features:.4f}\")"
   ]
  },
  {
   "cell_type": "markdown",
   "id": "5de10e10-5fa4-4138-9eff-6e4838af09e8",
   "metadata": {},
   "source": [
    "### Part C"
   ]
  },
  {
   "cell_type": "code",
   "execution_count": 100,
   "id": "f083f27f-876b-4ba8-a034-ca27925c4689",
   "metadata": {},
   "outputs": [
    {
     "name": "stdout",
     "output_type": "stream",
     "text": [
      "all feature MSE: 0.1276\n",
      "all feature R2: 0.6067\n"
     ]
    }
   ],
   "source": [
    "# # Your code here\n",
    "# x = df.drop(['MedHouseVal', 'MedInc'], axis=1)\n",
    "# df['log_MedInc'] = np.log(df['MedInc'])\n",
    "# x['log_MedInc']= df['log_MedInc']\n",
    "\n",
    "# x = df.drop(['MedHouseVal', 'Population'], axis=1)\n",
    "# df['PopSquared'] = df['Population']**2\n",
    "# x['PopSquared'] = df['PopSquared']\n",
    "\n",
    "# df['RoomsTimesBeds'] = df['AveRooms']* df['AveBedrms']\n",
    "# x = df.drop(['MedHouseVal', 'AveRooms', 'AveBedrms'], axis=1)\n",
    "\n",
    "x = df.drop(['MedHouseVal'], axis=1)\n",
    "df['log_MedInc'] = np.log(df['MedInc'])\n",
    "x['log_MedInc']= df['log_MedInc']\n",
    "df['PopSquared'] = df['Population']**2\n",
    "x['PopSquared'] = df['PopSquared']\n",
    "df['RoomsTimesBeds'] = df['AveRooms']* df['AveBedrms']\n",
    "y = np.log(df['MedHouseVal'])\n",
    "x_train, x_test, y_train, y_test = train_test_split(x,y,test_size=0.2, random_state=42)\n",
    "model= LinearRegression()\n",
    "model.fit(x_train, y_train)\n",
    "y_pred = model.predict(x_test)\n",
    "mse_all_features = mean_squared_error(y_test, y_pred)\n",
    "r2_all_features = r2_score(y_test, y_pred)\n",
    "print(f\"all feature MSE: {mse_all_features:.4f}\")\n",
    "print(f\"all feature R2: {r2_all_features:.4f}\")"
   ]
  },
  {
   "cell_type": "markdown",
   "id": "07e19c02-96f8-4ae1-9345-538c18515a68",
   "metadata": {},
   "source": [
    "### Part D: Graded answers\n"
   ]
  },
  {
   "cell_type": "code",
   "execution_count": 12,
   "id": "13abb11a-ba09-42a9-be88-e461d87c21e7",
   "metadata": {},
   "outputs": [
    {
     "name": "stdout",
     "output_type": "stream",
     "text": [
      "a2d1 = 0.0000\n"
     ]
    }
   ],
   "source": [
    "# Assign to the variable the MSE of the original data set with no transformations\n",
    "\n",
    "a2d1 = 0.0                              # Just to get the cell to run without errors, replace by appropriate expression\n",
    "\n",
    "print(f'a2d1 = {a2d1:.4f}')             # Do NOT change this print statement in any way, it is used by the auto-grader!"
   ]
  },
  {
   "cell_type": "code",
   "execution_count": 13,
   "id": "ac2c7085-e316-42b9-8055-cecaa41e559a",
   "metadata": {},
   "outputs": [
    {
     "name": "stdout",
     "output_type": "stream",
     "text": [
      "a2d2 = 0.0000\n"
     ]
    }
   ],
   "source": [
    "# Assign to the variable the MSE  score of the dataset after transformation 2.3\n",
    "\n",
    "a2d2 = 0.0                              # Just to get the cell to run without errors, replace by appropriate expression\n",
    "\n",
    "print(f'a2d2 = {a2d2:.4f}')             # Do NOT change this print statement in any way, it is used by the auto-grader!"
   ]
  },
  {
   "cell_type": "code",
   "execution_count": 14,
   "id": "680c4dbb-adbe-4850-92ba-f8bd655528d1",
   "metadata": {},
   "outputs": [
    {
     "name": "stdout",
     "output_type": "stream",
     "text": [
      "a2d3 = 0.0000\n"
     ]
    }
   ],
   "source": [
    "# Assign to the variable the $R^2$  score of the dataset after transformation 2.1\n",
    "\n",
    "\n",
    "a2d3 = 0.0                              # Just to get the cell to run without errors, replace by appropriate expression\n",
    "\n",
    "print(f'a2d3 = {a2d3:.4f}')             # Do NOT change this print statement in any way, it is used by the auto-grader!"
   ]
  },
  {
   "cell_type": "code",
   "execution_count": 15,
   "id": "051ce4f6-5c08-411f-9797-e288f8aee350",
   "metadata": {},
   "outputs": [
    {
     "name": "stdout",
     "output_type": "stream",
     "text": [
      "a2d4 = 0.0000\n"
     ]
    }
   ],
   "source": [
    "# Assign to the variable the R^2 score of the best result, i.e., the best R^2 score found in any experiment\n",
    "# Note that you do not have to specify which experiment(s), just give the largest value.\n",
    "\n",
    "a2d4 = 0.0                              # Just to get the cell to run without errors, replace by appropriate expression\n",
    "\n",
    "print(f'a2d4 = {a2d4:.4f}')             # Do NOT change this print statement in any way, it is used by the auto-grader!"
   ]
  },
  {
   "cell_type": "markdown",
   "id": "496002e2-8e8d-453a-9ac1-7826a0ba955a",
   "metadata": {},
   "source": [
    "### Part E"
   ]
  },
  {
   "cell_type": "code",
   "execution_count": 16,
   "id": "95f1b81c-7801-487c-975d-b7c53590fe8a",
   "metadata": {},
   "outputs": [
    {
     "name": "stdout",
     "output_type": "stream",
     "text": [
      "a2e = Ellipsis\n"
     ]
    }
   ],
   "source": [
    "# How many hours did you spend on this homework?  Assign to the variable an integer value. \n",
    "\n",
    "a2e = ...                         # Just to get the cell to run without errors, replace by appropriate expression\n",
    "\n",
    "print(f'a2e = {a2e}')             # Do NOT change this print statement in any way, it is used by the auto-grader!"
   ]
  },
  {
   "attachments": {
    "81ef3298-d253-4747-ac07-ffb5bb545e66.png": {
     "image/png": "[encoded data removed]"
    }
   },
   "cell_type": "markdown",
   "id": "07f2029b-f60b-486e-a0fb-915a6bf49126",
   "metadata": {},
   "source": [
    "## Appendix\n",
    "\n",
    "Here is a sample of the graphic I expect in Problem One. \n",
    "\n",
    "![Screenshot 2025-01-31 at 8.30.09 AM.png](attachment:81ef3298-d253-4747-ac07-ffb5bb545e66.png)"
   ]
  }
 ],
 "metadata": {
  "kernelspec": {
   "display_name": "Python 3",
   "language": "python",
   "name": "python3"
  },
  "language_info": {
   "codemirror_mode": {
    "name": "ipython",
    "version": 3
   },
   "file_extension": ".py",
   "mimetype": "text/x-python",
   "name": "python",
   "nbconvert_exporter": "python",
   "pygments_lexer": "ipython3",
   "version": "3.12.1"
  }
 },
 "nbformat": 4,
 "nbformat_minor": 5
}
